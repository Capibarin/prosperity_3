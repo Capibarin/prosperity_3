{
 "cells": [
  {
   "cell_type": "code",
   "execution_count": 119,
   "metadata": {},
   "outputs": [],
   "source": [
    "import pandas as pd\n",
    "import numpy as np\n",
    "import scipy as sc\n",
    "\n",
    "from sklearn.linear_model import ElasticNet, Ridge, Lasso, LinearRegression, GammaRegressor\n",
    "from sklearn.neural_network import MLPRegressor\n",
    "from sklearn.metrics import r2_score, mean_absolute_percentage_error\n",
    "from sklearn.preprocessing import StandardScaler\n",
    "\n",
    "from statistics import linear_regression"
   ]
  },
  {
   "cell_type": "code",
   "execution_count": 120,
   "metadata": {},
   "outputs": [
    {
     "data": {
      "text/html": [
       "<div>\n",
       "<style scoped>\n",
       "    .dataframe tbody tr th:only-of-type {\n",
       "        vertical-align: middle;\n",
       "    }\n",
       "\n",
       "    .dataframe tbody tr th {\n",
       "        vertical-align: top;\n",
       "    }\n",
       "\n",
       "    .dataframe thead th {\n",
       "        text-align: right;\n",
       "    }\n",
       "</style>\n",
       "<table border=\"1\" class=\"dataframe\">\n",
       "  <thead>\n",
       "    <tr style=\"text-align: right;\">\n",
       "      <th></th>\n",
       "      <th>timestamp</th>\n",
       "      <th>bidPrice</th>\n",
       "      <th>askPrice</th>\n",
       "      <th>transportFees</th>\n",
       "      <th>exportTariff</th>\n",
       "      <th>importTariff</th>\n",
       "      <th>sugarPrice</th>\n",
       "      <th>sunlightIndex</th>\n",
       "    </tr>\n",
       "  </thead>\n",
       "  <tbody>\n",
       "    <tr>\n",
       "      <th>0</th>\n",
       "      <td>0</td>\n",
       "      <td>627.0</td>\n",
       "      <td>628.5</td>\n",
       "      <td>1.0</td>\n",
       "      <td>9.0</td>\n",
       "      <td>-3.0</td>\n",
       "      <td>200.000000</td>\n",
       "      <td>60.00</td>\n",
       "    </tr>\n",
       "    <tr>\n",
       "      <th>1</th>\n",
       "      <td>100</td>\n",
       "      <td>630.0</td>\n",
       "      <td>631.5</td>\n",
       "      <td>1.0</td>\n",
       "      <td>9.0</td>\n",
       "      <td>-3.0</td>\n",
       "      <td>200.098445</td>\n",
       "      <td>60.00</td>\n",
       "    </tr>\n",
       "    <tr>\n",
       "      <th>2</th>\n",
       "      <td>200</td>\n",
       "      <td>630.0</td>\n",
       "      <td>631.5</td>\n",
       "      <td>1.0</td>\n",
       "      <td>9.0</td>\n",
       "      <td>-3.0</td>\n",
       "      <td>200.103915</td>\n",
       "      <td>60.00</td>\n",
       "    </tr>\n",
       "    <tr>\n",
       "      <th>3</th>\n",
       "      <td>300</td>\n",
       "      <td>632.0</td>\n",
       "      <td>633.5</td>\n",
       "      <td>1.0</td>\n",
       "      <td>9.0</td>\n",
       "      <td>-3.0</td>\n",
       "      <td>200.352462</td>\n",
       "      <td>60.01</td>\n",
       "    </tr>\n",
       "    <tr>\n",
       "      <th>4</th>\n",
       "      <td>400</td>\n",
       "      <td>630.5</td>\n",
       "      <td>632.0</td>\n",
       "      <td>1.0</td>\n",
       "      <td>9.0</td>\n",
       "      <td>-3.0</td>\n",
       "      <td>200.201545</td>\n",
       "      <td>60.01</td>\n",
       "    </tr>\n",
       "  </tbody>\n",
       "</table>\n",
       "</div>"
      ],
      "text/plain": [
       "   timestamp  bidPrice  askPrice  transportFees  exportTariff  importTariff  \\\n",
       "0          0     627.0     628.5            1.0           9.0          -3.0   \n",
       "1        100     630.0     631.5            1.0           9.0          -3.0   \n",
       "2        200     630.0     631.5            1.0           9.0          -3.0   \n",
       "3        300     632.0     633.5            1.0           9.0          -3.0   \n",
       "4        400     630.5     632.0            1.0           9.0          -3.0   \n",
       "\n",
       "   sugarPrice  sunlightIndex  \n",
       "0  200.000000          60.00  \n",
       "1  200.098445          60.00  \n",
       "2  200.103915          60.00  \n",
       "3  200.352462          60.01  \n",
       "4  200.201545          60.01  "
      ]
     },
     "execution_count": 120,
     "metadata": {},
     "output_type": "execute_result"
    }
   ],
   "source": [
    "df = pd.DataFrame()\n",
    "\n",
    "for i in range(1, 4):\n",
    "    tmp = pd.read_csv(f\"./csvs/observations_round_4_day_{i}.csv\")\n",
    "    df = pd.concat([df, tmp])\n",
    "\n",
    "df.head()"
   ]
  },
  {
   "cell_type": "code",
   "execution_count": 121,
   "metadata": {},
   "outputs": [],
   "source": [
    "df['midPrice'] = (df.bidPrice + df.askPrice) / 2\n",
    "n_rows = len(df)"
   ]
  },
  {
   "cell_type": "code",
   "execution_count": 122,
   "metadata": {},
   "outputs": [],
   "source": [
    "cols_x = ['transportFees', 'exportTariff', 'importTariff', 'sugarPrice', 'sunlightIndex']\n",
    "cols_y = ['midPrice']"
   ]
  },
  {
   "cell_type": "code",
   "execution_count": 173,
   "metadata": {},
   "outputs": [],
   "source": [
    "split = 0.9\n",
    "x_train = df[cols_x].head(int(n_rows * split)).to_numpy()\n",
    "y_train = df[cols_y].head(int(n_rows * split)).to_numpy()\n",
    "x_test = df[cols_x].tail(int(n_rows * (1 - split))).to_numpy()\n",
    "y_test = df[cols_y].tail(int(n_rows * (1 - split))).to_numpy()"
   ]
  },
  {
   "cell_type": "code",
   "execution_count": 174,
   "metadata": {},
   "outputs": [],
   "source": [
    "scale = StandardScaler()\n",
    "x_train = scale.fit_transform(x_train)\n",
    "x_test = scale.transform(x_test)"
   ]
  },
  {
   "cell_type": "code",
   "execution_count": 175,
   "metadata": {},
   "outputs": [
    {
     "name": "stdout",
     "output_type": "stream",
     "text": [
      "coefs: [ 18.91411857 -38.41883619 -40.09542125  26.18971415 -32.53090046]\n",
      "intercept: 648.6094444444443\n",
      "R2 score: -0.269661432457025\n",
      "MAPE: 0.0688427600253312\n"
     ]
    }
   ],
   "source": [
    "model = LinearRegression(fit_intercept=True)\n",
    "model.fit(x_train, y_train.ravel())\n",
    "y_hat = model.predict(x_test)\n",
    "\n",
    "print(\"coefs:\", model.coef_)\n",
    "print(\"intercept:\", model.intercept_)\n",
    "\n",
    "r2 = r2_score(y_test, y_hat)\n",
    "print(\"R2 score:\", r2)\n",
    "\n",
    "mape = mean_absolute_percentage_error(y_test, y_hat)\n",
    "print(\"MAPE:\", mape)"
   ]
  },
  {
   "cell_type": "code",
   "execution_count": 82,
   "metadata": {},
   "outputs": [
    {
     "name": "stdout",
     "output_type": "stream",
     "text": [
      "coefs: -14.144575377750616 648.6094444444444\n",
      "R2 score: -5.201337038002343\n",
      "MAPE: 0.18245184701624667\n"
     ]
    }
   ],
   "source": [
    "ind = 0\n",
    "\n",
    "beta, intercept = linear_regression(x_train[:, ind], y_train)\n",
    "y_hat = beta * x_test[:, ind] + intercept\n",
    "\n",
    "print(\"coefs:\", beta, intercept)\n",
    "\n",
    "r2 = r2_score(y_test, y_hat)\n",
    "print(\"R2 score:\", r2)\n",
    "\n",
    "mape = mean_absolute_percentage_error(y_test, y_hat)\n",
    "print(\"MAPE:\", mape)"
   ]
  },
  {
   "cell_type": "code",
   "execution_count": 107,
   "metadata": {},
   "outputs": [
    {
     "name": "stdout",
     "output_type": "stream",
     "text": [
      "coefs: [ 18.91418741 -38.41878686 -40.09578986  26.19004229 -32.53037611]\n",
      "R2 score: -0.26959398823513214\n",
      "MAPE: 0.0689038486036644\n"
     ]
    }
   ],
   "source": [
    "cols_x = ['transportFees', 'exportTariff', 'importTariff', 'sugarPrice', 'sunlightIndex']\n",
    "cols_y = ['bidPrice']\n",
    "\n",
    "split = 0.9\n",
    "x_train = df[cols_x].head(int(n_rows * split)).to_numpy()\n",
    "y_train = df[cols_y].head(int(n_rows * split)).to_numpy()\n",
    "x_test = df[cols_x].tail(int(n_rows * (1 - split))).to_numpy()\n",
    "y_test = df[cols_y].tail(int(n_rows * (1 - split))).to_numpy()\n",
    "\n",
    "scale = StandardScaler()\n",
    "x_train = scale.fit_transform(x_train)\n",
    "x_test = scale.transform(x_test)\n",
    "\n",
    "model = LinearRegression(fit_intercept=True)\n",
    "model.fit(x_train, y_train.ravel())\n",
    "y_hat = model.predict(x_test)\n",
    "\n",
    "print(\"coefs:\", model.coef_)\n",
    "\n",
    "r2 = r2_score(y_test, y_hat)\n",
    "print(\"R2 score:\", r2)\n",
    "\n",
    "mape = mean_absolute_percentage_error(y_test, y_hat)\n",
    "print(\"MAPE:\", mape)"
   ]
  },
  {
   "cell_type": "code",
   "execution_count": 115,
   "metadata": {},
   "outputs": [
    {
     "name": "stdout",
     "output_type": "stream",
     "text": [
      "R2 score: -0.4529993086643578\n",
      "MAPE: 0.07692443086696756\n"
     ]
    }
   ],
   "source": [
    "cols_x = ['transportFees', 'exportTariff', 'importTariff', 'sugarPrice', 'sunlightIndex']\n",
    "cols_y = ['bidPrice']\n",
    "\n",
    "split = 0.9\n",
    "x_train = df[cols_x].head(int(n_rows * split)).to_numpy()\n",
    "y_train = df[cols_y].head(int(n_rows * split)).to_numpy()\n",
    "x_test = df[cols_x].tail(int(n_rows * (1 - split))).to_numpy()\n",
    "y_test = df[cols_y].tail(int(n_rows * (1 - split))).to_numpy()\n",
    "\n",
    "scale = StandardScaler()\n",
    "x_train = scale.fit_transform(x_train)\n",
    "x_test = scale.transform(x_test)\n",
    "\n",
    "model = MLPRegressor(hidden_layer_sizes=(128, 32, 8), max_iter=1000)\n",
    "model.fit(x_train, y_train.ravel())\n",
    "y_hat = model.predict(x_test)\n",
    "\n",
    "r2 = r2_score(y_test, y_hat)\n",
    "print(\"R2 score:\", r2)\n",
    "\n",
    "mape = mean_absolute_percentage_error(y_test, y_hat)\n",
    "print(\"MAPE:\", mape)"
   ]
  },
  {
   "cell_type": "code",
   "execution_count": null,
   "metadata": {},
   "outputs": [],
   "source": []
  },
  {
   "cell_type": "code",
   "execution_count": 257,
   "metadata": {},
   "outputs": [
    {
     "name": "stdout",
     "output_type": "stream",
     "text": [
      "Number of points: 29900\n",
      "coefs: [ 58.54413036 -64.73096913 -53.46953419   4.38106356  -3.46720391]\n",
      "intercept: 338.0459383436893\n",
      "R2 score: -0.1718523196087265\n",
      "MAPE: 0.017190967783840293\n",
      "MAPE median: 0.019357208146313306\n"
     ]
    }
   ],
   "source": [
    "split = 0.99\n",
    "shift = 100\n",
    "\n",
    "df_shifted = df.copy()\n",
    "df_shifted[['bidPrice_shifted', 'askPrice_shifted', 'midPrice_shifted']] = df_shifted[['bidPrice', 'askPrice', 'midPrice']].shift(-shift)\n",
    "df_shifted.dropna(inplace=True)\n",
    "n_rows = len(df_shifted)\n",
    "print(\"Number of points:\", n_rows)\n",
    "\n",
    "cols_x = ['transportFees', 'exportTariff', 'importTariff', 'sugarPrice', 'sunlightIndex']\n",
    "cols_y_shifted = ['bidPrice_shifted']\n",
    "\n",
    "x_train = df_shifted[cols_x].head(int(n_rows * split)).to_numpy()\n",
    "y_train = df_shifted[cols_y_shifted].head(int(n_rows * split)).to_numpy()\n",
    "x_test = df_shifted[cols_x].tail(int(n_rows * (1 - split))).to_numpy()\n",
    "y_test = df_shifted[cols_y_shifted].tail(int(n_rows * (1 - split))).to_numpy()\n",
    "\n",
    "model = LinearRegression(fit_intercept=True)\n",
    "model.fit(x_train, y_train.ravel())\n",
    "y_hat = model.predict(x_test)\n",
    "\n",
    "print(\"coefs:\", model.coef_)\n",
    "print(\"intercept:\", model.intercept_)\n",
    "\n",
    "r2 = r2_score(y_test, y_hat)\n",
    "print(\"R2 score:\", r2)\n",
    "\n",
    "mape = mean_absolute_percentage_error(y_test, y_hat)\n",
    "print(\"MAPE:\", mape)\n",
    "\n",
    "mape_med = np.median(abs(y_test - y_hat) / y_test)\n",
    "print(\"MAPE median:\", mape_med)"
   ]
  },
  {
   "cell_type": "code",
   "execution_count": 246,
   "metadata": {},
   "outputs": [
    {
     "data": {
      "text/html": [
       "<div>\n",
       "<style scoped>\n",
       "    .dataframe tbody tr th:only-of-type {\n",
       "        vertical-align: middle;\n",
       "    }\n",
       "\n",
       "    .dataframe tbody tr th {\n",
       "        vertical-align: top;\n",
       "    }\n",
       "\n",
       "    .dataframe thead th {\n",
       "        text-align: right;\n",
       "    }\n",
       "</style>\n",
       "<table border=\"1\" class=\"dataframe\">\n",
       "  <thead>\n",
       "    <tr style=\"text-align: right;\">\n",
       "      <th></th>\n",
       "      <th>0</th>\n",
       "    </tr>\n",
       "  </thead>\n",
       "  <tbody>\n",
       "    <tr>\n",
       "      <th>count</th>\n",
       "      <td>5879.000000</td>\n",
       "    </tr>\n",
       "    <tr>\n",
       "      <th>mean</th>\n",
       "      <td>0.027058</td>\n",
       "    </tr>\n",
       "    <tr>\n",
       "      <th>std</th>\n",
       "      <td>0.020880</td>\n",
       "    </tr>\n",
       "    <tr>\n",
       "      <th>min</th>\n",
       "      <td>0.000000</td>\n",
       "    </tr>\n",
       "    <tr>\n",
       "      <th>25%</th>\n",
       "      <td>0.010457</td>\n",
       "    </tr>\n",
       "    <tr>\n",
       "      <th>50%</th>\n",
       "      <td>0.021450</td>\n",
       "    </tr>\n",
       "    <tr>\n",
       "      <th>75%</th>\n",
       "      <td>0.039813</td>\n",
       "    </tr>\n",
       "    <tr>\n",
       "      <th>max</th>\n",
       "      <td>0.101325</td>\n",
       "    </tr>\n",
       "  </tbody>\n",
       "</table>\n",
       "</div>"
      ],
      "text/plain": [
       "                 0\n",
       "count  5879.000000\n",
       "mean      0.027058\n",
       "std       0.020880\n",
       "min       0.000000\n",
       "25%       0.010457\n",
       "50%       0.021450\n",
       "75%       0.039813\n",
       "max       0.101325"
      ]
     },
     "execution_count": 246,
     "metadata": {},
     "output_type": "execute_result"
    }
   ],
   "source": [
    "pd.DataFrame(abs(y_test[:-100] / y_test[100:] - 1)).describe()"
   ]
  },
  {
   "cell_type": "markdown",
   "metadata": {},
   "source": [
    "coefs: [ 18.91411857 -38.41883619 -40.09542125  26.18971415 -32.53090046]\n",
    "intercept: 648.6094444444443\n",
    "R2 score: -0.269661432457025\n",
    "MAPE: 0.0688427600253312"
   ]
  }
 ],
 "metadata": {
  "kernelspec": {
   "display_name": "base",
   "language": "python",
   "name": "python3"
  },
  "language_info": {
   "codemirror_mode": {
    "name": "ipython",
    "version": 3
   },
   "file_extension": ".py",
   "mimetype": "text/x-python",
   "name": "python",
   "nbconvert_exporter": "python",
   "pygments_lexer": "ipython3",
   "version": "3.11.4"
  }
 },
 "nbformat": 4,
 "nbformat_minor": 2
}
